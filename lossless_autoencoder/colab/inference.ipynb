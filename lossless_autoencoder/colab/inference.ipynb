{
 "cells": [
  {
   "cell_type": "markdown",
   "metadata": {},
   "source": [
    "## モデルの読込"
   ]
  },
  {
   "cell_type": "code",
   "execution_count": null,
   "metadata": {},
   "outputs": [],
   "source": [
    "import tensorflow as tf\n",
    "autoencoder = tf.keras.models.load_model('autoencoder')"
   ]
  },
  {
   "cell_type": "code",
   "execution_count": null,
   "metadata": {},
   "outputs": [],
   "source": [
    "import numpy as np\n",
    "from tensorflow.keras.datasets import fashion_mnist\n",
    "\n",
    "(_, _), (x_test, _) = fashion_mnist.load_data()\n",
    "x_test = x_test.astype('float32')\n",
    "\n",
    "random_i = np.random.randint(x_test.shape[0])\n",
    "original = x_test[random_i]\n",
    "autoencoder.predict(original.reshape(1, 28, 28))"
   ]
  },
  {
   "cell_type": "markdown",
   "metadata": {},
   "source": [
    "## 圧縮"
   ]
  },
  {
   "cell_type": "code",
   "execution_count": null,
   "metadata": {},
   "outputs": [],
   "source": [
    "# !pip install -q CarryLessRangeCoder"
   ]
  },
  {
   "cell_type": "code",
   "execution_count": null,
   "metadata": {},
   "outputs": [],
   "source": [
    "from rangecoder import array2bytes, bytes2array\n",
    "\n",
    "enc_img, enc_info = autoencoder.encode(original, flatten=True)\n",
    "out = array2bytes(enc_img, enc_info)\n",
    "dec_img, dec_info = bytes2array(out)\n",
    "lossless_recon = autoencoder.encode(dec_img, dec_info)"
   ]
  }
 ],
 "metadata": {
  "language_info": {
   "name": "python"
  },
  "orig_nbformat": 4
 },
 "nbformat": 4,
 "nbformat_minor": 2
}

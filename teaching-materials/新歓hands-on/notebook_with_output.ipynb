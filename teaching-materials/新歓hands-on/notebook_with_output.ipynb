{
  "cells": [
    {
      "cell_type": "markdown",
      "metadata": {
        "id": "BB3bGY4eBYaQ"
      },
      "source": [
        "# 新歓 Hands-on 🚀"
      ]
    },
    {
      "cell_type": "markdown",
      "metadata": {
        "id": "5r63efMKTkQF"
      },
      "source": [
        "このハンズオンでは、アルファベットを認識するモデルを学習させて、どのような挙動をするのかを分析することです。\n",
        "\n",
        "注意：今回使用するコードは発展的な内容なので、どんな仕組みで動いているのかを理解する必要はありません。  \n",
        "　　　ただ、できればどんな目的で動かしているのかには注目してみて欲しいです。"
      ]
    },
    {
      "cell_type": "markdown",
      "metadata": {
        "id": "kNC7GNV7im4h"
      },
      "source": [
        "## 初期設定"
      ]
    },
    {
      "cell_type": "markdown",
      "metadata": {
        "id": "D0BupgY4lC7a"
      },
      "source": [
        "まず、今回使用するツールの初期設定をします。特に重要なことはないので内容の説明はスルーします。\n",
        "\n",
        "1. あなたの作業が保存されるようにするために「ドライブにコピー」というボタンを押して下さい。\n",
        "\n",
        "<img src=\"https://github.com/yuji96/data-science-notes/blob/main/%E6%96%B0%E6%AD%93hands-on/img/drive.png?raw=true\" width=\"400\"/>\n",
        "\n",
        "2. メニューのランタイムから、ランタイプのタイプを GPU に変更して下さい。\n",
        "\n",
        "<img src=\"https://github.com/yuji96/data-science-notes/blob/main/%E6%96%B0%E6%AD%93hands-on/img/GPU1.png?raw=true\" width=\"500\"/>\n",
        "\n",
        "<img src=\"https://github.com/yuji96/data-science-notes/blob/main/%E6%96%B0%E6%AD%93hands-on/img/GPU2.png?raw=true\" width=\"300\"/>\n"
      ]
    },
    {
      "cell_type": "markdown",
      "metadata": {
        "id": "-M37BfsSnaLU"
      },
      "source": [
        "↓ この下にマウスのカーソルを持ってくると「▶」みたいな形をした実行ボタンが現れるので、押して実行して下さい。"
      ]
    },
    {
      "cell_type": "code",
      "execution_count": null,
      "metadata": {
        "id": "X5yoN-6bGNUP"
      },
      "outputs": [],
      "source": [
        "import tensorflow as tf\n",
        "assert tf.config.experimental.list_physical_devices('GPU'), \"ランタイムを GPU に切り替えて下さい。\""
      ]
    },
    {
      "cell_type": "markdown",
      "metadata": {
        "id": "nuw1ngGgo8Ke"
      },
      "source": [
        "続けて下の3つのコードも実行して下さい。"
      ]
    },
    {
      "cell_type": "code",
      "execution_count": null,
      "metadata": {
        "colab": {
          "base_uri": "https://localhost:8080/"
        },
        "id": "JkfJakrOi850",
        "outputId": "2a876202-37ce-4244-ece6-8baf53bc30e4"
      },
      "outputs": [
        {
          "name": "stdout",
          "output_type": "stream",
          "text": [
            "\u001b[K     |████████████████████████████████| 4.1 MB 5.4 MB/s \n",
            "\u001b[?25h  Building wheel for japanize-matplotlib (setup.py) ... \u001b[?25l\u001b[?25hdone\n",
            "\u001b[K     |████████████████████████████████| 9.6 MB 6.5 MB/s \n",
            "\u001b[K     |████████████████████████████████| 357 kB 22.6 MB/s \n",
            "\u001b[?25h  Building wheel for retrying (setup.py) ... \u001b[?25l\u001b[?25hdone\n",
            "  Building wheel for dash-canvas (setup.py) ... \u001b[?25l\u001b[?25hdone\n"
          ]
        }
      ],
      "source": [
        "!pip install -qq emnist\n",
        "!pip install -qq japanize-matplotlib\n",
        "!pip install -qq jupyter_dash\n",
        "!pip install -qq git+https://github.com/plotly/dash-canvas.git@df6e16db3ee56e93674faff6b1d2dd28ef4b3094"
      ]
    },
    {
      "cell_type": "code",
      "execution_count": null,
      "metadata": {
        "colab": {
          "base_uri": "https://localhost:8080/"
        },
        "id": "MqFMdcXHis2J",
        "outputId": "b1cbffcf-52da-4761-ac07-0276b0e7bcaf"
      },
      "outputs": [
        {
          "name": "stdout",
          "output_type": "stream",
          "text": [
            "2.8.0\n"
          ]
        }
      ],
      "source": [
        "from IPython.display import Javascript\n",
        "import matplotlib.pyplot as plt\n",
        "import numpy as np\n",
        "\n",
        "import japanize_matplotlib\n",
        "\n",
        "plt.rcParams[\"font.size\"] = 18\n",
        "\n",
        "tf.random.set_seed(0)\n",
        "print(tf.__version__)"
      ]
    },
    {
      "cell_type": "markdown",
      "metadata": {
        "id": "Q43mednMAjQv"
      },
      "source": [
        "## データ準備"
      ]
    },
    {
      "cell_type": "markdown",
      "metadata": {
        "id": "ckgy4fZiAyTy"
      },
      "source": [
        "それではハンズオンの内容に入っていきます。\n",
        "\n",
        "今回使用する EMNIST と呼ばれるデータセットをダウンロードします。（データは Google が提供する無料貸出サーバー上にダウンロードされるので、あなたの PC や Google ドライブには影響ありません。）\n",
        "\n",
        "このコードの実行には少し時間がかかるかもしれません。"
      ]
    },
    {
      "cell_type": "code",
      "execution_count": null,
      "metadata": {
        "colab": {
          "base_uri": "https://localhost:8080/"
        },
        "id": "a6Xa00G0Hdpm",
        "outputId": "26bf14ad-4d08-4050-e07a-7557cd16e5cf"
      },
      "outputs": [
        {
          "name": "stderr",
          "output_type": "stream",
          "text": [
            "Downloading emnist.zip: 536MB [00:10, 51.9MB/s]\n"
          ]
        }
      ],
      "source": [
        "from string import digits, ascii_uppercase, ascii_lowercase\n",
        "from emnist import extract_training_samples, extract_test_samples\n",
        "\n",
        "train_x, train_t = extract_training_samples('byclass')\n",
        "test_x, test_t = extract_test_samples('byclass')\n",
        "\n",
        "labels = list(digits + ascii_uppercase + ascii_lowercase)\n",
        "target_to_label = {target: label for target, label in enumerate(labels)}"
      ]
    },
    {
      "cell_type": "markdown",
      "metadata": {
        "id": "kf7Uem2Fr3IG"
      },
      "source": [
        "どのようなデータセットなのかを少し覗いてみます。"
      ]
    },
    {
      "cell_type": "code",
      "execution_count": null,
      "metadata": {
        "colab": {
          "base_uri": "https://localhost:8080/",
          "height": 230
        },
        "id": "gFS1snl0WBXE",
        "outputId": "177f67a2-df9d-46e8-8bba-ee00a3ac6ec0"
      },
      "outputs": [
        {
          "data": {
            "image/png": "[encoded data removed]",
            "text/plain": [
              "<Figure size 1080x216 with 20 Axes>"
            ]
          },
          "metadata": {
            "needs_background": "light"
          },
          "output_type": "display_data"
        }
      ],
      "source": [
        "indexes = np.random.randint(train_x.shape[0], size=20)\n",
        "\n",
        "fig, axes = plt.subplots(2, 10, constrained_layout=True, figsize=[15, 3])\n",
        "for ax, image, target in zip(axes.flatten(), train_x[indexes], train_t[indexes]):\n",
        "    ax.imshow(image, cmap='gray')\n",
        "    ax.set_title(f'{target_to_label[target]}')\n",
        "    ax.axis(\"off\")"
      ]
    },
    {
      "cell_type": "markdown",
      "metadata": {
        "id": "9li-R7y-s0uc"
      },
      "source": [
        "画像データとそれに対応するラベルが表示されました。  \n",
        "「9」って書いてあるけど「q」に見えるなーってものもあると思います。  \n",
        "上のセルは実行するたびに表示される画像は変わるので、他の画像も見たい方はもう一度実行してみて下さい。\n",
        "\n",
        "今回のゴールは、ラベルが付いていない画像がなんのアルファベットなのかを AI に当てさせることです。"
      ]
    },
    {
      "cell_type": "markdown",
      "metadata": {
        "id": "Rl2WYMC0GuxD"
      },
      "source": [
        "## モデルを〇〇する"
      ]
    },
    {
      "cell_type": "markdown",
      "metadata": {
        "id": "Oj-psNRzBrNZ"
      },
      "source": [
        "### 構築する"
      ]
    },
    {
      "cell_type": "markdown",
      "metadata": {
        "id": "JE_11F_TNdRm"
      },
      "source": [
        "今回構築するモデルは**ニューラルネットワーク**です。名前だけなら聞いたことある人は多いかもしれません。\n",
        "ニューラルネットワークはいくつかの**ユニット**と、それを束にした**レイヤー（layer）**を積み重ねることで成り立ちます。このレイヤーが多い状態を「深い（Deep）」というので、**Deep Learning** という言葉が生まれました。\n",
        "\n",
        "<img src=\"https://github.com/yuji96/data-science-notes/blob/main/%E6%96%B0%E6%AD%93hands-on/img/mlp.jpeg?raw=true\" width=\"500\"/>\n",
        "\n",
        "画像出典: https://towardsdatascience.com/building-a-deep-learning-model-using-keras-1548ca149d37"
      ]
    },
    {
      "cell_type": "markdown",
      "metadata": {
        "id": "OoqlTW9ZrBwE"
      },
      "source": [
        "今回はニューラルネットワークの隠れ層（hidden layer）を各々で作ってもらいます。\n",
        "近年は便利なツールを使うことで簡単に書くことができるので安心して下さい。\n",
        "\n",
        "例えば、上図のニューラルネットワークを作りたければ\n",
        "```python\n",
        "hidden_layers = [\n",
        "    HiddenLayer(4),\n",
        "    HiddenLayer(4),\n",
        "]\n",
        "```\n",
        "とすれば４つのユニットを持ったレイヤーが２個積み重なったニューラルネットワークを作ることができます。\n",
        "\n",
        "アドバイス：\n",
        "- レイヤーの数は 3〜10 くらいが良さそう。\n",
        "- １つのレイヤーにおけるユニットの数は 100〜700 くらいが良さそう。"
      ]
    },
    {
      "cell_type": "code",
      "execution_count": null,
      "metadata": {
        "id": "xNAYlat-Zcg-"
      },
      "outputs": [],
      "source": [
        "from tensorflow.keras.layers import Flatten, Dense, Input\n",
        "\n",
        "def HiddenLayer(units: int):\n",
        "    return Dense(units, activation=\"relu\")"
      ]
    },
    {
      "cell_type": "code",
      "execution_count": null,
      "metadata": {
        "colab": {
          "base_uri": "https://localhost:8080/"
        },
        "id": "k_UoNOHoLtFF",
        "outputId": "2ea73bb0-7e5d-487e-ea4f-b1340c1c0f19"
      },
      "outputs": [
        {
          "name": "stdout",
          "output_type": "stream",
          "text": [
            "Model: \"sequential_2\"\n",
            "_________________________________________________________________\n",
            " Layer (type)                Output Shape              Param #   \n",
            "=================================================================\n",
            " flatten_2 (Flatten)         (None, 784)               0         \n",
            "                                                                 \n",
            " dense_14 (Dense)            (None, 600)               471000    \n",
            "                                                                 \n",
            " dense_15 (Dense)            (None, 500)               300500    \n",
            "                                                                 \n",
            " dense_16 (Dense)            (None, 400)               200400    \n",
            "                                                                 \n",
            " dense_17 (Dense)            (None, 300)               120300    \n",
            "                                                                 \n",
            " dense_18 (Dense)            (None, 200)               60200     \n",
            "                                                                 \n",
            " dense_19 (Dense)            (None, 100)               20100     \n",
            "                                                                 \n",
            " dense_20 (Dense)            (None, 62)                6262      \n",
            "                                                                 \n",
            "=================================================================\n",
            "Total params: 1,178,762\n",
            "Trainable params: 1,178,762\n",
            "Non-trainable params: 0\n",
            "_________________________________________________________________\n"
          ]
        }
      ],
      "source": [
        "hidden_layers = [\n",
        "]\n",
        "\n",
        "# 例えばこんな感じ\n",
        "hidden_layers = [\n",
        "#     HiddenLayer(600),  ← 最後にカンマ 「,」 を付けるのを忘れないようにする。\n",
        "    HiddenLayer(600),\n",
        "    HiddenLayer(500),\n",
        "    HiddenLayer(400),\n",
        "    HiddenLayer(300),\n",
        "    HiddenLayer(200),\n",
        "    HiddenLayer(100),\n",
        "]\n",
        "\n",
        "your_model = tf.keras.Sequential([\n",
        "    Input(shape=(28, 28, 1)),\n",
        "    Flatten(),\n",
        "    *hidden_layers,\n",
        "    Dense(62, activation=\"softmax\"),\n",
        "])\n",
        "your_model.compile(optimizer=\"adam\",\n",
        "                    loss='sparse_categorical_crossentropy',\n",
        "                    metrics=['accuracy'])\n",
        "your_model.summary()"
      ]
    },
    {
      "cell_type": "markdown",
      "metadata": {
        "id": "5dXzqX3jCIDV"
      },
      "source": [
        "### 学習する"
      ]
    },
    {
      "cell_type": "markdown",
      "metadata": {
        "id": "7EZz7NA8063e"
      },
      "source": [
        "先ほど構築したモデルを学習させます。実行にかなり時間がかかります。"
      ]
    },
    {
      "cell_type": "code",
      "execution_count": null,
      "metadata": {
        "colab": {
          "base_uri": "https://localhost:8080/",
          "height": 100
        },
        "id": "9fmPHk4RJ0TR",
        "outputId": "0bcf5057-578a-4241-ae26-59488b9a43a6"
      },
      "outputs": [
        {
          "data": {
            "application/javascript": "google.colab.output.setIframeHeight(0, true, {maxHeight: 100})",
            "text/plain": [
              "<IPython.core.display.Javascript object>"
            ]
          },
          "metadata": {},
          "output_type": "display_data"
        },
        {
          "name": "stdout",
          "output_type": "stream",
          "text": [
            "Epoch 1/20\n",
            "187/187 [==============================] - 7s 33ms/step - loss: 2.6617 - accuracy: 0.5697 - val_loss: 0.9030 - val_accuracy: 0.7317\n",
            "Epoch 2/20\n",
            "187/187 [==============================] - 4s 23ms/step - loss: 0.7409 - accuracy: 0.7703 - val_loss: 0.7189 - val_accuracy: 0.7683\n",
            "Epoch 3/20\n",
            "187/187 [==============================] - 4s 23ms/step - loss: 0.6039 - accuracy: 0.8035 - val_loss: 0.5932 - val_accuracy: 0.8049\n",
            "Epoch 4/20\n",
            "187/187 [==============================] - 4s 21ms/step - loss: 0.5412 - accuracy: 0.8191 - val_loss: 0.5612 - val_accuracy: 0.8143\n",
            "Epoch 5/20\n",
            "187/187 [==============================] - 4s 21ms/step - loss: 0.5039 - accuracy: 0.8283 - val_loss: 0.5458 - val_accuracy: 0.8163\n",
            "Epoch 6/20\n",
            "187/187 [==============================] - 4s 23ms/step - loss: 0.4760 - accuracy: 0.8352 - val_loss: 0.5168 - val_accuracy: 0.8262\n",
            "Epoch 7/20\n",
            "187/187 [==============================] - 4s 21ms/step - loss: 0.4547 - accuracy: 0.8405 - val_loss: 0.5070 - val_accuracy: 0.8283\n",
            "Epoch 8/20\n",
            "187/187 [==============================] - 4s 23ms/step - loss: 0.4359 - accuracy: 0.8457 - val_loss: 0.5075 - val_accuracy: 0.8275\n",
            "Epoch 9/20\n",
            "187/187 [==============================] - 4s 21ms/step - loss: 0.4227 - accuracy: 0.8488 - val_loss: 0.4859 - val_accuracy: 0.8338\n",
            "Epoch 10/20\n",
            "187/187 [==============================] - 4s 21ms/step - loss: 0.4087 - accuracy: 0.8525 - val_loss: 0.4865 - val_accuracy: 0.8341\n",
            "Epoch 11/20\n",
            "187/187 [==============================] - 4s 21ms/step - loss: 0.3977 - accuracy: 0.8554 - val_loss: 0.4893 - val_accuracy: 0.8340\n",
            "Epoch 12/20\n",
            "184/187 [============================>.] - ETA: 0s - loss: 0.3912 - accuracy: 0.8571Restoring model weights from the end of the best epoch: 9.\n",
            "187/187 [==============================] - 4s 22ms/step - loss: 0.3914 - accuracy: 0.8570 - val_loss: 0.4879 - val_accuracy: 0.8336\n",
            "Epoch 12: early stopping\n"
          ]
        }
      ],
      "source": [
        "def fit(model):\n",
        "    display(Javascript('''google.colab.output.setIframeHeight(0, true, {maxHeight: 100})'''))\n",
        "    es = tf.keras.callbacks.EarlyStopping(patience=3, restore_best_weights=True, verbose=1)\n",
        "    model.compile(optimizer=\"adam\",\n",
        "                        loss='sparse_categorical_crossentropy',\n",
        "                        metrics=['accuracy'])\n",
        "    return model.fit(train_x, train_t, batch_size=3000, epochs=20, validation_split=0.2, callbacks=[es])\n",
        "\n",
        "\n",
        "assert tf.config.experimental.list_physical_devices('GPU'), \"ランタイムを GPU に切り替えて下さい。\"\n",
        "history1 = fit(your_model)"
      ]
    },
    {
      "cell_type": "markdown",
      "metadata": {
        "id": "yocunHSyGpmJ"
      },
      "source": [
        "### 評価する"
      ]
    },
    {
      "cell_type": "markdown",
      "metadata": {
        "id": "owPfMNxT1XLD"
      },
      "source": [
        "学習中に表示された数字を分かりやすくするためにグラフ化します。"
      ]
    },
    {
      "cell_type": "code",
      "execution_count": null,
      "metadata": {
        "colab": {
          "base_uri": "https://localhost:8080/",
          "height": 280
        },
        "id": "FVjExCegEMk-",
        "outputId": "6e7b3331-cee1-4dd9-d494-0ace7ff8c3ea"
      },
      "outputs": [
        {
          "data": {
            "image/png": "[encoded data removed]",
            "text/plain": [
              "<Figure size 936x288 with 2 Axes>"
            ]
          },
          "metadata": {
            "needs_background": "light"
          },
          "output_type": "display_data"
        }
      ],
      "source": [
        "def show_curve(history):\n",
        "    fig, (left, right) = plt.subplots(1, 2, figsize=[13, 4])\n",
        "\n",
        "    left.plot(history.history[\"loss\"], label=\"train\", marker=\"o\")\n",
        "    left.plot(history.history[\"val_loss\"], label=\"valid\", marker=\"o\")\n",
        "\n",
        "    right.plot(history.history[\"accuracy\"], label=\"train\", marker=\"o\")\n",
        "    right.plot(history.history[\"val_accuracy\"], label=\"valid\", marker=\"o\")\n",
        "    right.set(ylim=[None, 1])\n",
        "\n",
        "    for ax, title in zip([left, right], [\"誤差\", \"正解率\"]):\n",
        "        ax.legend()\n",
        "        ax.set(title=title, xlabel=\"エポック\")\n",
        "        ax.grid(which=\"both\")\n",
        "    plt.tight_layout()\n",
        "    return\n",
        "\n",
        "show_curve(history1)"
      ]
    },
    {
      "cell_type": "markdown",
      "metadata": {
        "id": "6ks0dFTX1rDi"
      },
      "source": [
        "train（青線）と valid（オレンジ線）はそれぞれ**訓練誤差**と**検証誤差**と呼ばれます。これらは受験における「教科書による勉強」と「模試による評価」で例えると分かりやすいです。\n",
        "\n",
        "教科書の理解度が深まると模試の点数も上がりますが、ある程度まで行くとある程度まで行くと限界が来ます。もしこのまま学習を続けると、AI は**教科書を理解する**という本当の意味を忘れて、教科書にあるシミの数とかを数え始めた結果、模試の点数を落とすかもしれません。\n",
        "\n",
        "これは勉強法を変えるか教科書を難しくするなどの対策や、限界が来たら諦めるという選択肢がになります。"
      ]
    },
    {
      "cell_type": "markdown",
      "metadata": {
        "id": "0-cUx9vZ4xbb"
      },
      "source": [
        "しかし、本当の目的は模試ではなく本番の試験です。モデルも同じくテストデータという最終評価のためだけに用意されたデータで評価します。"
      ]
    },
    {
      "cell_type": "code",
      "execution_count": null,
      "metadata": {
        "colab": {
          "base_uri": "https://localhost:8080/"
        },
        "id": "FREZOMnS4uqG",
        "outputId": "ac9299dc-909f-47ee-d810-23d9ee1f09a1"
      },
      "outputs": [
        {
          "name": "stdout",
          "output_type": "stream",
          "text": [
            "3636/3636 [==============================] - 14s 4ms/step - loss: 0.4843 - accuracy: 0.8342\n"
          ]
        }
      ],
      "source": [
        "your_model.evaluate(test_x, test_t, verbose=1);"
      ]
    },
    {
      "cell_type": "markdown",
      "metadata": {
        "id": "qFHaEOpO5fT0"
      },
      "source": [
        "正解率（accuracy）が 80% くらいならまあまあ良いモデルです。全然届いてなければモデルの再構築をする必要があります。"
      ]
    },
    {
      "cell_type": "markdown",
      "metadata": {
        "id": "3AMZYwATkH-f"
      },
      "source": [
        "## モデルの分析"
      ]
    },
    {
      "cell_type": "markdown",
      "metadata": {
        "id": "LHdEguU5ou-r"
      },
      "source": [
        "「正解率 80% と聞いてどう感じましたか？」\n",
        "\n",
        "もう少し学習時間があれば精度改善はあるかもしれません。ただ、この資料作成時に色々試しましたが、85% が限界でした。ここからは精度向上に壁がある原因を探ってみましょう。"
      ]
    },
    {
      "cell_type": "markdown",
      "metadata": {
        "id": "xY_voZSHde1Z"
      },
      "source": [
        "原因調査の一つに、混同行列を作ってみるという方法があります。\n",
        "\n",
        "<img src=\"https://github.com/yuji96/data-science-notes/blob/main/%E6%96%B0%E6%AD%93hands-on/img/cm.jpeg?raw=true\" width=\"400\"/>\n",
        "\n",
        "画像出典: https://analysis-navi.com/?p=553\n",
        "\n",
        "この図だと、ネコをネコであると AI が正確に識別できたのは 240 回で、ネコをウマだと誤識別したのは 25 回あったと表現されます。良いモデルは対角線上が大きくなります。これを今回のアルファベットのデータでも作成します。"
      ]
    },
    {
      "cell_type": "code",
      "execution_count": null,
      "metadata": {
        "colab": {
          "base_uri": "https://localhost:8080/",
          "height": 279
        },
        "id": "DibYFoZt1JfN",
        "outputId": "8d22efcd-6382-49a9-b378-fe352e838696"
      },
      "outputs": [
        {
          "data": {
            "image/png": "[encoded data removed]",
            "text/plain": [
              "<Figure size 432x288 with 2 Axes>"
            ]
          },
          "metadata": {
            "needs_background": "light"
          },
          "output_type": "display_data"
        }
      ],
      "source": [
        "predict = your_model.predict(test_x)\n",
        "cm = tf.math.confusion_matrix(test_t, predict.argmax(axis=-1)).numpy()\n",
        "cm_norm = cm / cm.sum(axis=1)\n",
        "plt.imshow(cm_norm, cmap=\"jet\")\n",
        "plt.colorbar();"
      ]
    },
    {
      "cell_type": "markdown",
      "metadata": {
        "id": "jG74yqqmfWgI"
      },
      "source": [
        "青から赤になるほど数字が大きいことを意味しています。そこまで悪くないはずなので対角線上に赤っぽい線があると思います。しかし、あることに気づきませんか…？"
      ]
    },
    {
      "cell_type": "markdown",
      "metadata": {
        "id": "bIYocS-ggAbQ"
      },
      "source": [
        "下のコードを実行すると、間違えやすかったアルファベットが列挙されます。どのような、共通点があるでしょう？"
      ]
    },
    {
      "cell_type": "code",
      "execution_count": null,
      "metadata": {
        "colab": {
          "base_uri": "https://localhost:8080/",
          "height": 112
        },
        "id": "DMQolMpg33kn",
        "outputId": "21ef9ed1-9184-431f-9c19-5990f6fc46dc"
      },
      "outputs": [
        {
          "data": {
            "text/html": [
              "\n",
              "  <div id=\"df-6f4f2f08-b1f6-4f4f-933a-cb7212e3fe97\">\n",
              "    <div class=\"colab-df-container\">\n",
              "      <div>\n",
              "<style scoped>\n",
              "    .dataframe tbody tr th:only-of-type {\n",
              "        vertical-align: middle;\n",
              "    }\n",
              "\n",
              "    .dataframe tbody tr th {\n",
              "        vertical-align: top;\n",
              "    }\n",
              "\n",
              "    .dataframe thead th {\n",
              "        text-align: right;\n",
              "    }\n",
              "</style>\n",
              "<table border=\"1\" class=\"dataframe\">\n",
              "  <thead>\n",
              "    <tr style=\"text-align: right;\">\n",
              "      <th></th>\n",
              "      <th>38</th>\n",
              "      <th>50</th>\n",
              "      <th>54</th>\n",
              "      <th>41</th>\n",
              "      <th>56</th>\n",
              "      <th>47</th>\n",
              "      <th>51</th>\n",
              "      <th>57</th>\n",
              "      <th>52</th>\n",
              "      <th>60</th>\n",
              "    </tr>\n",
              "  </thead>\n",
              "  <tbody>\n",
              "    <tr>\n",
              "      <th>label</th>\n",
              "      <td>c</td>\n",
              "      <td>o</td>\n",
              "      <td>s</td>\n",
              "      <td>f</td>\n",
              "      <td>u</td>\n",
              "      <td>l</td>\n",
              "      <td>p</td>\n",
              "      <td>v</td>\n",
              "      <td>q</td>\n",
              "      <td>y</td>\n",
              "    </tr>\n",
              "    <tr>\n",
              "      <th>真陽</th>\n",
              "      <td>0.0</td>\n",
              "      <td>0.002146</td>\n",
              "      <td>0.011442</td>\n",
              "      <td>0.085</td>\n",
              "      <td>0.128631</td>\n",
              "      <td>0.142801</td>\n",
              "      <td>0.146739</td>\n",
              "      <td>0.213675</td>\n",
              "      <td>0.243564</td>\n",
              "      <td>0.246719</td>\n",
              "    </tr>\n",
              "  </tbody>\n",
              "</table>\n",
              "</div>\n",
              "      <button class=\"colab-df-convert\" onclick=\"convertToInteractive('df-6f4f2f08-b1f6-4f4f-933a-cb7212e3fe97')\"\n",
              "              title=\"Convert this dataframe to an interactive table.\"\n",
              "              style=\"display:none;\">\n",
              "        \n",
              "  <svg xmlns=\"http://www.w3.org/2000/svg\" height=\"24px\"viewBox=\"0 0 24 24\"\n",
              "       width=\"24px\">\n",
              "    <path d=\"M0 0h24v24H0V0z\" fill=\"none\"/>\n",
              "    <path d=\"M18.56 5.44l.94 2.06.94-2.06 2.06-.94-2.06-.94-.94-2.06-.94 2.06-2.06.94zm-11 1L8.5 8.5l.94-2.06 2.06-.94-2.06-.94L8.5 2.5l-.94 2.06-2.06.94zm10 10l.94 2.06.94-2.06 2.06-.94-2.06-.94-.94-2.06-.94 2.06-2.06.94z\"/><path d=\"M17.41 7.96l-1.37-1.37c-.4-.4-.92-.59-1.43-.59-.52 0-1.04.2-1.43.59L10.3 9.45l-7.72 7.72c-.78.78-.78 2.05 0 2.83L4 21.41c.39.39.9.59 1.41.59.51 0 1.02-.2 1.41-.59l7.78-7.78 2.81-2.81c.8-.78.8-2.07 0-2.86zM5.41 20L4 18.59l7.72-7.72 1.47 1.35L5.41 20z\"/>\n",
              "  </svg>\n",
              "      </button>\n",
              "      \n",
              "  <style>\n",
              "    .colab-df-container {\n",
              "      display:flex;\n",
              "      flex-wrap:wrap;\n",
              "      gap: 12px;\n",
              "    }\n",
              "\n",
              "    .colab-df-convert {\n",
              "      background-color: #E8F0FE;\n",
              "      border: none;\n",
              "      border-radius: 50%;\n",
              "      cursor: pointer;\n",
              "      display: none;\n",
              "      fill: #1967D2;\n",
              "      height: 32px;\n",
              "      padding: 0 0 0 0;\n",
              "      width: 32px;\n",
              "    }\n",
              "\n",
              "    .colab-df-convert:hover {\n",
              "      background-color: #E2EBFA;\n",
              "      box-shadow: 0px 1px 2px rgba(60, 64, 67, 0.3), 0px 1px 3px 1px rgba(60, 64, 67, 0.15);\n",
              "      fill: #174EA6;\n",
              "    }\n",
              "\n",
              "    [theme=dark] .colab-df-convert {\n",
              "      background-color: #3B4455;\n",
              "      fill: #D2E3FC;\n",
              "    }\n",
              "\n",
              "    [theme=dark] .colab-df-convert:hover {\n",
              "      background-color: #434B5C;\n",
              "      box-shadow: 0px 1px 3px 1px rgba(0, 0, 0, 0.15);\n",
              "      filter: drop-shadow(0px 1px 2px rgba(0, 0, 0, 0.3));\n",
              "      fill: #FFFFFF;\n",
              "    }\n",
              "  </style>\n",
              "\n",
              "      <script>\n",
              "        const buttonEl =\n",
              "          document.querySelector('#df-6f4f2f08-b1f6-4f4f-933a-cb7212e3fe97 button.colab-df-convert');\n",
              "        buttonEl.style.display =\n",
              "          google.colab.kernel.accessAllowed ? 'block' : 'none';\n",
              "\n",
              "        async function convertToInteractive(key) {\n",
              "          const element = document.querySelector('#df-6f4f2f08-b1f6-4f4f-933a-cb7212e3fe97');\n",
              "          const dataTable =\n",
              "            await google.colab.kernel.invokeFunction('convertToInteractive',\n",
              "                                                     [key], {});\n",
              "          if (!dataTable) return;\n",
              "\n",
              "          const docLinkHtml = 'Like what you see? Visit the ' +\n",
              "            '<a target=\"_blank\" href=https://colab.research.google.com/notebooks/data_table.ipynb>data table notebook</a>'\n",
              "            + ' to learn more about interactive tables.';\n",
              "          element.innerHTML = '';\n",
              "          dataTable['output_type'] = 'display_data';\n",
              "          await google.colab.output.renderOutput(dataTable, element);\n",
              "          const docLink = document.createElement('div');\n",
              "          docLink.innerHTML = docLinkHtml;\n",
              "          element.appendChild(docLink);\n",
              "        }\n",
              "      </script>\n",
              "    </div>\n",
              "  </div>\n",
              "  "
            ],
            "text/plain": [
              "        38        50        54     41        56        47        51        57  \\\n",
              "label    c         o         s      f         u         l         p         v   \n",
              "真陽     0.0  0.002146  0.011442  0.085  0.128631  0.142801  0.146739  0.213675   \n",
              "\n",
              "             52        60  \n",
              "label         q         y  \n",
              "真陽     0.243564  0.246719  "
            ]
          },
          "execution_count": 18,
          "metadata": {},
          "output_type": "execute_result"
        }
      ],
      "source": [
        "import pandas as pd\n",
        "\n",
        "weak = pd.DataFrame({\"label\": labels, \"真陽\": cm_norm.diagonal()})\n",
        "weak.sort_values(\"真陽\").head(10).T"
      ]
    },
    {
      "cell_type": "markdown",
      "metadata": {
        "id": "2Uuu7HxZgOQi"
      },
      "source": [
        "下のコードは `o`（小文字のオー）がどこに分類されやすいかを表している図です。\n",
        "`label = \"o\"` を `label = \"1\"` などに変更すると `1` の分類先を見ることもできます。"
      ]
    },
    {
      "cell_type": "code",
      "execution_count": null,
      "metadata": {
        "colab": {
          "base_uri": "https://localhost:8080/",
          "height": 296
        },
        "id": "E-8vutipIeXW",
        "outputId": "f8b0750b-ae5a-4886-cc24-5b74e992d6ec"
      },
      "outputs": [
        {
          "data": {
            "image/png": "[encoded data removed]",
            "text/plain": [
              "<Figure size 432x288 with 1 Axes>"
            ]
          },
          "metadata": {
            "needs_background": "light"
          },
          "output_type": "display_data"
        }
      ],
      "source": [
        "label = \"o\"\n",
        "\n",
        "label_to_target = {v: k for k, v in target_to_label.items()}\n",
        "target = label_to_target[label]\n",
        "df = pd.DataFrame({\"labels\": labels, \"pred\": cm_norm[target]}).sort_values(\"pred\", ascending=False).head(10)\n",
        "plt.bar(data=df, x=\"labels\", height=\"pred\")\n",
        "plt.title(f\"{label} の識別先\");"
      ]
    },
    {
      "cell_type": "markdown",
      "metadata": {
        "id": "c2dnvldajX-k"
      },
      "source": [
        "このモデルを改善するにはどのようなことをすればいいでしょう…。このアイデアを練ってそれを実際に作っみるというのが、データサイエンスの醍醐味です。"
      ]
    },
    {
      "cell_type": "markdown",
      "metadata": {
        "id": "zRpKV382xuYc"
      },
      "source": [
        "## 使ってみる"
      ]
    },
    {
      "cell_type": "markdown",
      "metadata": {
        "id": "DO69CITghgzr"
      },
      "source": [
        "これが今回のハンズオンの最後です。\n",
        "実際に自分で書いた文字をモデルに予測させてみましょう。\n",
        "左側に字を描けるキャンバスがあり、右側に予測結果が出ます。この予測結果はモデルの自信の強さです。\n",
        "\n",
        "注意：初回の実行には数分時間がかかります。"
      ]
    },
    {
      "cell_type": "code",
      "execution_count": null,
      "metadata": {
        "colab": {
          "base_uri": "https://localhost:8080/",
          "height": 52
        },
        "id": "iBCOKk54mhN7",
        "outputId": "19169bb7-2019-49b4-e653-c9d71a475eb3"
      },
      "outputs": [
        {
          "name": "stdout",
          "output_type": "stream",
          "text": [
            "Dash app running on:\n"
          ]
        },
        {
          "data": {
            "application/javascript": "(async (port, path, text, element) => {\n    if (!google.colab.kernel.accessAllowed) {\n      return;\n    }\n    element.appendChild(document.createTextNode(''));\n    const url = await google.colab.kernel.proxyPort(port);\n    const anchor = document.createElement('a');\n    anchor.href = new URL(path, url).toString();\n    anchor.target = '_blank';\n    anchor.setAttribute('data-href', url + path);\n    anchor.textContent = text;\n    element.appendChild(anchor);\n  })(8050, \"/\", \"http://127.0.0.1:8050/\", window.element)",
            "text/plain": [
              "<IPython.core.display.Javascript object>"
            ]
          },
          "metadata": {},
          "output_type": "display_data"
        }
      ],
      "source": [
        "import cv2\n",
        "from dash import dcc, html, Input, Output\n",
        "from dash_canvas import DashCanvas\n",
        "from dash_canvas.utils import parse_jsonstring\n",
        "from jupyter_dash import JupyterDash\n",
        "import pandas as pd\n",
        "import plotly.express as px\n",
        "\n",
        "\n",
        "model = your_model\n",
        "app = JupyterDash(__name__)\n",
        "W = H = 400\n",
        "\n",
        "app.layout = html.Div([\n",
        "    DashCanvas(id='canvas', width=W, height=H, lineWidth=35, goButtonTitle=\"予測する\",\n",
        "               hide_buttons=[\"zoom\", \"pan\", \"line\", \"pencil\", \"rectangle\", \"select\"]),\n",
        "    dcc.Graph(id=\"graph\"),\n",
        "], style={\"display\": \"flex\", \"flex-direction\": \"row\"})\n",
        "\n",
        "@app.callback(Output(\"graph\", \"figure\"), Input('canvas', 'json_data'))\n",
        "def read_canvas(string):\n",
        "    if not string:\n",
        "        return px.bar()\n",
        "\n",
        "    image = parse_jsonstring(string).astype(float)[:H, :W] * 255\n",
        "    image = cv2.resize(image, dsize=(28, 28)).reshape(1, 28, 28)\n",
        "\n",
        "    predict = pd.DataFrame({\"score\": model.predict(image).flatten(),\n",
        "                            \"label\": labels})\n",
        "    fig = px.bar(predict.nlargest(10, \"score\")[::-1], x=\"score\", y=\"label\", orientation='h')\n",
        "    fig.update_layout(font={\"size\": 25}, xaxis={'range': [0, 1]})\n",
        "    return fig\n",
        "\n",
        "app.run_server(mode=\"external\")"
      ]
    },
    {
      "cell_type": "markdown",
      "metadata": {
        "id": "nwwVmk9ehwaO"
      },
      "source": [
        "↑青く表示された URL をクリックして下さい。"
      ]
    },
    {
      "cell_type": "markdown",
      "metadata": {
        "id": "94ta3-ZsjJyn"
      },
      "source": [
        "お疲れ様でした！\n",
        "\n",
        "今はコードが分からなくても、今から勉強するともしかしたら夏休みくらいには自由研究感覚でなにか作りたいものが作れるようになるかもしれません。\n",
        "\n",
        "また、今回は `HiddenLayer(100)` などを書いただけでニューラルネットワークができてしまいましたが、それが数学的にはどんな仕組みなのかというのもとても興味深い世界です。"
      ]
    },
    {
      "cell_type": "code",
      "execution_count": null,
      "metadata": {
        "id": "NOgaSNvfkatf"
      },
      "outputs": [],
      "source": []
    }
  ],
  "metadata": {
    "accelerator": "GPU",
    "colab": {
      "collapsed_sections": [],
      "name": "新歓ハンズオン資料.ipynb",
      "provenance": [],
      "toc_visible": true
    },
    "kernelspec": {
      "display_name": "Python 3",
      "name": "python3"
    },
    "language_info": {
      "name": "python"
    }
  },
  "nbformat": 4,
  "nbformat_minor": 0
}

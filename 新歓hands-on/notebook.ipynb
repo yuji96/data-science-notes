{
  "nbformat": 4,
  "nbformat_minor": 0,
  "metadata": {
    "colab": {
      "name": "新歓hands-on.ipynb",
      "provenance": [],
      "collapsed_sections": []
    },
    "kernelspec": {
      "name": "python3",
      "display_name": "Python 3"
    },
    "language_info": {
      "name": "python"
    },
    "accelerator": "GPU"
  },
  "cells": [
    {
      "cell_type": "markdown",
      "source": [
        "# 新歓 Hands-on 🚀\n",
        "\n",
        "[![Open In Colab](https://colab.research.google.com/assets/colab-badge.svg)](https://colab.research.google.com/github/yuji96/data-science-notes/blob/main/%E6%96%B0%E6%AD%93hands-on/notebook.ipynb)"
      ],
      "metadata": {
        "id": "BB3bGY4eBYaQ"
      }
    },
    {
      "cell_type": "markdown",
      "source": [
        "このハンズオンでは、アルファベットを認識するモデルを学習させて、どのような挙動をするのかを分析することです。\n",
        "\n",
        "注意：今回使用するコードは発展的な内容なので、どんな仕組みで動いているのかを理解する必要はありません。  \n",
        "　　　ただ、できればどんな目的で動かしているのかには注目してみて欲しいです。"
      ],
      "metadata": {
        "id": "5r63efMKTkQF"
      }
    },
    {
      "cell_type": "markdown",
      "source": [
        "## 初期設定"
      ],
      "metadata": {
        "id": "kNC7GNV7im4h"
      }
    },
    {
      "cell_type": "markdown",
      "source": [
        "まず、今回使用するツールの初期設定をします。特に重要なことはないので内容の説明はスルーします。\n",
        "\n",
        "1. あなたの作業が保存されるようにするために「ドライブにコピー」というボタンを押して下さい。\n",
        "\n",
        "<img src=\"https://drive.google.com/uc?id=11YnB9d5bQa0DqIvvlwMS21pV3LzEjdzU\" width=\"400\"/>\n",
        "\n",
        "2. メニューのランタイムから、ランタイプのタイプを GPU に変更して下さい。\n",
        "\n",
        "<img src=\"https://drive.google.com/uc?id=1drhQkCWgwGOKoAtp69h1z9ERTgLCb2S4\" width=\"500\"/>\n",
        "\n",
        "<img src=\"https://drive.google.com/uc?id=1LDm5QPCX6APZIFaPN22IBfgp2XWeXOPu\" width=\"300\"/>\n",
        "\n",
        "\n"
      ],
      "metadata": {
        "id": "D0BupgY4lC7a"
      }
    },
    {
      "cell_type": "markdown",
      "source": [
        "↓ この下にマウスのカーソルを持ってくると「▶」みたいな形をした実行ボタンが現れるので、押して実行して下さい。"
      ],
      "metadata": {
        "id": "-M37BfsSnaLU"
      }
    },
    {
      "cell_type": "code",
      "source": [
        "import tensorflow as tf\n",
        "assert tf.config.experimental.list_physical_devices('GPU'), \"ランタイムを GPU に切り替えて下さい。\""
      ],
      "metadata": {
        "id": "X5yoN-6bGNUP"
      },
      "execution_count": null,
      "outputs": []
    },
    {
      "cell_type": "markdown",
      "source": [
        "続けて下の3つのコードも実行して下さい。"
      ],
      "metadata": {
        "id": "nuw1ngGgo8Ke"
      }
    },
    {
      "cell_type": "code",
      "source": [
        "#@title\n",
        "!pip install -qq emnist\n",
        "!pip install -qq japanize-matplotlib\n",
        "!pip install -qq jupyter_dash\n",
        "!pip install -qq git+https://github.com/plotly/dash-canvas.git@df6e16db3ee56e93674faff6b1d2dd28ef4b3094"
      ],
      "metadata": {
        "id": "JkfJakrOi850"
      },
      "execution_count": null,
      "outputs": []
    },
    {
      "cell_type": "code",
      "source": [
        "from IPython.display import Javascript\n",
        "import matplotlib.pyplot as plt\n",
        "import numpy as np\n",
        "\n",
        "import japanize_matplotlib\n",
        "\n",
        "plt.rcParams[\"font.size\"] = 18\n",
        "\n",
        "tf.random.set_seed(0)\n",
        "print(tf.__version__)"
      ],
      "metadata": {
        "id": "MqFMdcXHis2J",
        "colab": {
          "base_uri": "https://localhost:8080/"
        },
        "outputId": "fe6b10b6-f022-4ddc-9cd1-7a6266e24fe6"
      },
      "execution_count": null,
      "outputs": [
        {
          "output_type": "stream",
          "name": "stdout",
          "text": [
            "2.8.0\n"
          ]
        }
      ]
    },
    {
      "cell_type": "markdown",
      "source": [
        "## データ準備"
      ],
      "metadata": {
        "id": "Q43mednMAjQv"
      }
    },
    {
      "cell_type": "markdown",
      "source": [
        "それではハンズオンの内容に入っていきます。\n",
        "\n",
        "今回使用する EMNIST と呼ばれるデータセットをダウンロードします。（データは Google が提供する無料貸出サーバー上にダウンロードされるので、あなたの PC や Google ドライブには影響ありません。）\n",
        "\n",
        "このコードの実行には少し時間がかかるかもしれません。"
      ],
      "metadata": {
        "id": "ckgy4fZiAyTy"
      }
    },
    {
      "cell_type": "code",
      "source": [
        "from string import digits, ascii_uppercase, ascii_lowercase\n",
        "from emnist import extract_training_samples, extract_test_samples\n",
        "\n",
        "train_x, train_t = extract_training_samples('byclass')\n",
        "test_x, test_t = extract_test_samples('byclass')\n",
        "\n",
        "labels = list(digits + ascii_uppercase + ascii_lowercase)\n",
        "target_to_label = {target: label for target, label in enumerate(labels)}"
      ],
      "metadata": {
        "id": "a6Xa00G0Hdpm"
      },
      "execution_count": null,
      "outputs": []
    },
    {
      "cell_type": "markdown",
      "source": [
        "どのようなデータセットなのかを少し覗いてみます。"
      ],
      "metadata": {
        "id": "kf7Uem2Fr3IG"
      }
    },
    {
      "cell_type": "code",
      "source": [
        "indexes = np.random.randint(train_x.shape[0], size=20)\n",
        "\n",
        "fig, axes = plt.subplots(2, 10, constrained_layout=True, figsize=[15, 3])\n",
        "for ax, image, target in zip(axes.flatten(), train_x[indexes], train_t[indexes]):\n",
        "    ax.imshow(image, cmap='gray')\n",
        "    ax.set_title(f'{target_to_label[target]}')\n",
        "    ax.axis(\"off\")"
      ],
      "metadata": {
        "id": "gFS1snl0WBXE"
      },
      "execution_count": null,
      "outputs": []
    },
    {
      "cell_type": "markdown",
      "source": [
        "画像データとそれに対応するラベルが表示されました。  \n",
        "「9」って書いてあるけど「q」に見えるなーってものもあると思います。  \n",
        "上のセルは実行するたびに表示される画像は変わるので、他の画像も見たい方はもう一度実行してみて下さい。\n",
        "\n",
        "今回のゴールは、ラベルが付いていない画像がなんのアルファベットなのかを AI に当てさせることです。"
      ],
      "metadata": {
        "id": "9li-R7y-s0uc"
      }
    },
    {
      "cell_type": "markdown",
      "source": [
        "## モデルを〇〇する"
      ],
      "metadata": {
        "id": "Rl2WYMC0GuxD"
      }
    },
    {
      "cell_type": "markdown",
      "source": [
        "### 構築する"
      ],
      "metadata": {
        "id": "Oj-psNRzBrNZ"
      }
    },
    {
      "cell_type": "markdown",
      "source": [
        "今回構築するモデルは**ニューラルネットワーク**です。名前だけなら聞いたことある人は多いかもしれません。\n",
        "ニューラルネットワークはいくつかの**ユニット**と、それを束にした**レイヤー（layer）**を積み重ねることで成り立ちます。このレイヤーが多い状態を「深い（Deep）」というので、**Deep Learning** という言葉が生まれました。\n",
        "\n",
        "<img src=\"https://drive.google.com/uc?id=1vwIB_eDGDjKQgMQvXDO-tppHmJ2I7vdP\" width=\"500\"/>\n",
        "\n",
        "画像出典: https://towardsdatascience.com/building-a-deep-learning-model-using-keras-1548ca149d37"
      ],
      "metadata": {
        "id": "JE_11F_TNdRm"
      }
    },
    {
      "cell_type": "markdown",
      "source": [
        "今回はニューラルネットワークの隠れ層（hidden layer）を各々で作ってもらいます。\n",
        "近年は便利なツールを使うことで簡単に書くことができるので安心して下さい。\n",
        "\n",
        "例えば、上図のニューラルネットワークを作りたければ\n",
        "```python\n",
        "hidden_layers = [\n",
        "    HiddenLayer(4),\n",
        "    HiddenLayer(4),\n",
        "]\n",
        "```\n",
        "とすれば４つのユニットを持ったレイヤーが２個積み重なったニューラルネットワークを作ることができます。\n",
        "\n",
        "アドバイス：\n",
        "- レイヤーの数は 3〜10 くらいが良さそう。\n",
        "- １つのレイヤーにおけるユニットの数は 100〜700 くらいが良さそう。"
      ],
      "metadata": {
        "id": "OoqlTW9ZrBwE"
      }
    },
    {
      "cell_type": "code",
      "source": [
        "from tensorflow.keras.layers import Flatten, Dense, Conv2D, MaxPooling2D, Input, BatchNormalization\n",
        "\n",
        "def HiddenLayer(units: int):\n",
        "    return Dense(units, activation=\"relu\")"
      ],
      "metadata": {
        "id": "xNAYlat-Zcg-"
      },
      "execution_count": null,
      "outputs": []
    },
    {
      "cell_type": "code",
      "source": [
        "hidden_layers = [\n",
        "    # ここに書く\n",
        "]\n",
        "\n",
        "# 例えばこんな感じ\n",
        "# hidden_layers = [\n",
        "#     HiddenLayer(600),  ← 最後にカンマ 「,」 を付けるのを忘れないようにする。\n",
        "#     HiddenLayer(600),\n",
        "#     HiddenLayer(500),\n",
        "#     HiddenLayer(400),\n",
        "#     HiddenLayer(300),\n",
        "#     HiddenLayer(200),\n",
        "#     HiddenLayer(100),\n",
        "# ]\n",
        "\n",
        "your_model = tf.keras.Sequential([\n",
        "    Input(shape=(28, 28, 1)),\n",
        "    Flatten(),\n",
        "    *hidden_layers,\n",
        "    Dense(62, activation=\"softmax\"),\n",
        "])\n",
        "your_model.compile(optimizer=\"adam\",\n",
        "                    loss='sparse_categorical_crossentropy',\n",
        "                    metrics=['accuracy'])\n",
        "your_model.summary()"
      ],
      "metadata": {
        "id": "k_UoNOHoLtFF"
      },
      "execution_count": null,
      "outputs": []
    },
    {
      "cell_type": "markdown",
      "source": [
        "### 学習する"
      ],
      "metadata": {
        "id": "5dXzqX3jCIDV"
      }
    },
    {
      "cell_type": "markdown",
      "source": [
        "先ほど構築したモデルを学習させます。実行にかなり時間がかかります。"
      ],
      "metadata": {
        "id": "7EZz7NA8063e"
      }
    },
    {
      "cell_type": "code",
      "source": [
        "def fit(model):\n",
        "    display(Javascript('''google.colab.output.setIframeHeight(0, true, {maxHeight: 100})'''))\n",
        "    es = tf.keras.callbacks.EarlyStopping(patience=3, restore_best_weights=True, verbose=1)\n",
        "    model.compile(optimizer=\"adam\",\n",
        "                        loss='sparse_categorical_crossentropy',\n",
        "                        metrics=['accuracy'])\n",
        "    return model.fit(train_x, train_t, batch_size=3000, epochs=20, validation_split=0.2, callbacks=[es])\n",
        "\n",
        "\n",
        "assert tf.config.experimental.list_physical_devices('GPU'), \"ランタイムを GPU に切り替えて下さい。\"\n",
        "history1 = fit(your_model)"
      ],
      "metadata": {
        "id": "9fmPHk4RJ0TR"
      },
      "execution_count": null,
      "outputs": []
    },
    {
      "cell_type": "markdown",
      "source": [
        "### 評価する"
      ],
      "metadata": {
        "id": "yocunHSyGpmJ"
      }
    },
    {
      "cell_type": "markdown",
      "source": [
        "学習中に表示された数字を分かりやすくするためにグラフ化します。"
      ],
      "metadata": {
        "id": "owPfMNxT1XLD"
      }
    },
    {
      "cell_type": "code",
      "source": [
        "def show_curve(history):\n",
        "    fig, (left, right) = plt.subplots(1, 2, figsize=[13, 4])\n",
        "\n",
        "    left.plot(history.history[\"loss\"], label=\"train\", marker=\"o\")\n",
        "    left.plot(history.history[\"val_loss\"], label=\"valid\", marker=\"o\")\n",
        "\n",
        "    right.plot(history.history[\"accuracy\"], label=\"train\", marker=\"o\")\n",
        "    right.plot(history.history[\"val_accuracy\"], label=\"valid\", marker=\"o\")\n",
        "    right.set(ylim=[None, 1])\n",
        "\n",
        "    for ax, title in zip([left, right], [\"誤差\", \"正解率\"]):\n",
        "        ax.legend()\n",
        "        ax.set(title=title, xlabel=\"エポック\")\n",
        "        ax.grid(which=\"both\")\n",
        "    plt.tight_layout()\n",
        "    return\n",
        "\n",
        "show_curve(history1)"
      ],
      "metadata": {
        "id": "FVjExCegEMk-"
      },
      "execution_count": null,
      "outputs": []
    },
    {
      "cell_type": "markdown",
      "source": [
        "注意：グラフが表示されるまで十秒ほど時間がかかります。"
      ],
      "metadata": {
        "id": "IWpmhTgtyfxO"
      }
    },
    {
      "cell_type": "markdown",
      "source": [
        "train（青線）と valid（オレンジ線）はそれぞれ**訓練誤差**と**検証誤差**と呼ばれます。これらは受験における「教科書による勉強」と「模試による評価」で例えると分かりやすいです。\n",
        "\n",
        "教科書の理解度が深まると模試の点数も上がりますが、ある程度まで行くとある程度まで行くと限界が来ます。もしこのまま学習を続けると、AI は**教科書を理解する**という本当の意味を忘れて、教科書にあるシミの数とかを数え始めた結果、模試の点数を落とすかもしれません。\n",
        "\n",
        "これは勉強法を変えるか教科書を難しくするなどの対策や、限界が来たら諦めるという選択肢が必要になります。"
      ],
      "metadata": {
        "id": "6ks0dFTX1rDi"
      }
    },
    {
      "cell_type": "markdown",
      "source": [
        "しかし、本当の目的は模試ではなく本番の試験です。モデルも同じくテストデータという最終評価のためだけに用意されたデータで評価します。"
      ],
      "metadata": {
        "id": "0-cUx9vZ4xbb"
      }
    },
    {
      "cell_type": "code",
      "source": [
        "your_model.evaluate(test_x, test_t, verbose=1);"
      ],
      "metadata": {
        "id": "FREZOMnS4uqG"
      },
      "execution_count": null,
      "outputs": []
    },
    {
      "cell_type": "markdown",
      "source": [
        "正解率（accuracy）が 80% くらいならまあまあ良いモデルです。全然届いてなければモデルの再構築をする必要があります。"
      ],
      "metadata": {
        "id": "qFHaEOpO5fT0"
      }
    },
    {
      "cell_type": "markdown",
      "source": [
        "## モデルの分析"
      ],
      "metadata": {
        "id": "3AMZYwATkH-f"
      }
    },
    {
      "cell_type": "markdown",
      "source": [
        "「正解率 80% と聞いてどう感じましたか？」\n",
        "\n",
        "もう少し学習時間があれば精度改善はあるかもしれません。ただ、この資料作成時に色々試しましたが、85% が限界でした。ここからは精度向上に壁がある原因を探ってみましょう。"
      ],
      "metadata": {
        "id": "LHdEguU5ou-r"
      }
    },
    {
      "cell_type": "markdown",
      "source": [
        "原因調査の一つに、混同行列を作ってみるという方法があります。\n",
        "\n",
        "<img src=\"https://drive.google.com/uc?id=1SF8ib7rx2JxK_Yg0txuTnrR_Qmn7IQ3A\" width=\"400\"/>\n",
        "\n",
        "画像出典: https://analysis-navi.com/?p=553\n",
        "\n",
        "この図だと、ネコをネコであると AI が正確に識別できたのは 240 回で、ネコをウマだと誤識別したのは 25 回あったと表現されます。良いモデルは対角線上が大きくなります。これを今回のアルファベットのデータでも作成します。"
      ],
      "metadata": {
        "id": "xY_voZSHde1Z"
      }
    },
    {
      "cell_type": "code",
      "source": [
        "predict = your_model.predict(test_x)\n",
        "cm = tf.math.confusion_matrix(test_t, predict.argmax(axis=-1)).numpy()\n",
        "cm_norm = cm / cm.sum(axis=1)\n",
        "plt.imshow(cm_norm, cmap=\"jet\")\n",
        "plt.colorbar();"
      ],
      "metadata": {
        "id": "DibYFoZt1JfN"
      },
      "execution_count": null,
      "outputs": []
    },
    {
      "cell_type": "markdown",
      "source": [
        "青から赤になるほど数字が大きいことを意味しています。そこまで悪くないはずなので対角線上に赤っぽい線があると思います。しかし、あることに気づきませんか…？"
      ],
      "metadata": {
        "id": "jG74yqqmfWgI"
      }
    },
    {
      "cell_type": "markdown",
      "source": [
        "下のコードを実行すると、間違えやすかったアルファベットが列挙されます。どのような、共通点があるでしょう？"
      ],
      "metadata": {
        "id": "bIYocS-ggAbQ"
      }
    },
    {
      "cell_type": "code",
      "source": [
        "import pandas as pd\n",
        "\n",
        "weak = pd.DataFrame({\"label\": labels, \"真陽\": cm_norm.diagonal()})\n",
        "weak.sort_values(\"真陽\").head(10).T"
      ],
      "metadata": {
        "id": "DMQolMpg33kn"
      },
      "execution_count": null,
      "outputs": []
    },
    {
      "cell_type": "markdown",
      "source": [
        "下のコードは `o`（小文字のオー）がどこに分類されやすいかを表している図です。\n",
        "`label = \"o\"` を `label = \"1\"` などに変更すると `1` の分類先を見ることもできます。"
      ],
      "metadata": {
        "id": "2Uuu7HxZgOQi"
      }
    },
    {
      "cell_type": "code",
      "source": [
        "label = \"o\"\n",
        "\n",
        "label_to_target = {v: k for k, v in target_to_label.items()}\n",
        "target = label_to_target[label]\n",
        "df = pd.DataFrame({\"labels\": labels, \"pred\": cm_norm[target]}).sort_values(\"pred\", ascending=False).head(10)\n",
        "plt.bar(data=df, x=\"labels\", height=\"pred\")\n",
        "plt.title(f\"{label} の識別先\");"
      ],
      "metadata": {
        "id": "E-8vutipIeXW"
      },
      "execution_count": null,
      "outputs": []
    },
    {
      "cell_type": "markdown",
      "source": [
        "このモデルを改善するにはどのようなことをすればいいでしょう…。このアイデアを練ってそれを実際に作ってみるというのが、データサイエンスの醍醐味です。"
      ],
      "metadata": {
        "id": "c2dnvldajX-k"
      }
    },
    {
      "cell_type": "markdown",
      "source": [
        "## 使ってみる"
      ],
      "metadata": {
        "id": "zRpKV382xuYc"
      }
    },
    {
      "cell_type": "markdown",
      "source": [
        "これが今回のハンズオンの最後です。\n",
        "実際に自分で書いた文字をモデルに予測させてみましょう。\n",
        "左側に字を描けるキャンバスがあり、右側に予測結果を表示するためのグラフエリアが出ます。この予測結果はモデルの自信の強さです。"
      ],
      "metadata": {
        "id": "DO69CITghgzr"
      }
    },
    {
      "cell_type": "code",
      "source": [
        "import cv2\n",
        "from dash import dcc, html, Input, Output\n",
        "from dash_canvas import DashCanvas\n",
        "from dash_canvas.utils import parse_jsonstring\n",
        "from jupyter_dash import JupyterDash\n",
        "import pandas as pd\n",
        "import plotly.express as px\n",
        "\n",
        "\n",
        "model = your_model\n",
        "app = JupyterDash(__name__)\n",
        "W = H = 400\n",
        "\n",
        "app.layout = html.Div([\n",
        "    DashCanvas(id='canvas', width=W, height=H, lineWidth=35, goButtonTitle=\"予測する\",\n",
        "               hide_buttons=[\"zoom\", \"pan\", \"line\", \"pencil\", \"rectangle\", \"select\"]),\n",
        "    dcc.Graph(id=\"graph\"),\n",
        "], style={\"display\": \"flex\"})\n",
        "\n",
        "\n",
        "\n",
        "@app.callback(Output(\"graph\", \"figure\"), Input('canvas', 'json_data'))\n",
        "def read_canvas(string):\n",
        "    if not string:\n",
        "        # model.predict(np.zeros(28, 28))\n",
        "        return px.bar()\n",
        "\n",
        "    image = parse_jsonstring(string).astype(float)[:H, :W] * 255\n",
        "    image = cv2.resize(image, dsize=(28, 28)).reshape(1, 28, 28)\n",
        "\n",
        "    predict = pd.DataFrame({\"score\": model.predict(image).flatten(),\n",
        "                            \"label\": labels})\n",
        "    fig = px.bar(predict.nlargest(10, \"score\")[::-1], x=\"score\", y=\"label\", orientation='h')\n",
        "    fig.update_layout(font={\"size\": 25}, xaxis={'range': [0, 1]})\n",
        "    return fig\n",
        "\n",
        "app.run_server(mode=\"inline\")"
      ],
      "metadata": {
        "id": "iBCOKk54mhN7"
      },
      "execution_count": null,
      "outputs": []
    },
    {
      "cell_type": "markdown",
      "source": [
        "注意：グラフが表示されるまで10秒ほど時間がかかります。また、初回の予測にも数十秒ほど時間がかかります。"
      ],
      "metadata": {
        "id": "nwwVmk9ehwaO"
      }
    },
    {
      "cell_type": "markdown",
      "source": [
        "お疲れ様でした！\n",
        "\n",
        "今はコードが分からなくても、今から勉強するともしかしたら夏休みくらいには自由研究感覚でなにか作りたいものが作れるようになるかもしれません。\n",
        "\n",
        "また、今回は `HiddenLayer(100)` などを書いただけでニューラルネットワークができてしまいましたが、それが数学的にはどんな仕組みなのかというのもとても興味深い世界です。"
      ],
      "metadata": {
        "id": "94ta3-ZsjJyn"
      }
    }
  ]
}